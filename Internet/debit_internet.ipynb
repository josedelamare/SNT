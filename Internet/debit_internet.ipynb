{
 "cells": [
  {
   "cell_type": "markdown",
   "metadata": {},
   "source": [
    "# <center>Débit internet</center>"
   ]
  },
  {
   "cell_type": "markdown",
   "metadata": {},
   "source": [
    "Exécutez la cellule ci-dessous pour installer les modules indispensables au bon fonctionnement de ce notebook."
   ]
  },
  {
   "cell_type": "code",
   "execution_count": null,
   "metadata": {},
   "outputs": [],
   "source": [
    "from solution import exo_calcul\n",
    "from solution import exo_adsl_fibre\n",
    "from solution import exo_debit\n",
    "from solution import exo_duree"
   ]
  },
  {
   "cell_type": "markdown",
   "metadata": {},
   "source": [
    "---\n",
    "Une société propose une méthode de transfert de données par voie routière. Un camion de 14 mètres de long pouvant stocker jusquʼà 10 Po (pétaoctets) de données assure le transit des données depuis un point de départ jusquʼà un point dʼarrivée.\n",
    "\n",
    "On va chercher à calculer le débit de cette méthode et à le comparer avec un débit ADSL ou fibre.\n",
    "\n",
    "**Indication 1** : On prendra $10^{6}$ Go pour valeur approximative de 1 Po.\n",
    "\n",
    "**Indication 2** : en Python, $10^6$ s'écrit : `1E6`."
   ]
  },
  {
   "cell_type": "markdown",
   "metadata": {},
   "source": [
    "## 1. Calcul de débit"
   ]
  },
  {
   "cell_type": "markdown",
   "metadata": {},
   "source": [
    "Un client de cette société demande un transfert de 10 Po entre Paris et Marseille. \n",
    "\n",
    "> **Travail à faire** : Exécutez la cellule ci-dessous pour initialiser la variable $quantite$."
   ]
  },
  {
   "cell_type": "code",
   "execution_count": null,
   "metadata": {},
   "outputs": [],
   "source": [
    "quantite = 10e6"
   ]
  },
  {
   "cell_type": "markdown",
   "metadata": {},
   "source": [
    "Le camion se rend au point de départ et les techniciens de la société vous aident à effectuer le transfert des données depuis vos serveurs vers le camion. Le transfert de 10 Po dure dix jours.\n",
    "\n",
    "A lʼarrivée du camion à destination, les techniciens effectuent le transfert des données depuis le camion jusquʼaux serveurs dʼarrivée. Le transfert de 10 Po dure également dix jours. \n",
    "\n",
    "Le transit de ces données du point de départ au point dʼarrivée dure 3 jours.\n",
    "\n",
    "> **Travail à faire** : Combien de jours prendront le temps de chargement, déchargement et transit des données ?"
   ]
  },
  {
   "cell_type": "code",
   "execution_count": null,
   "metadata": {},
   "outputs": [],
   "source": [
    "## Complétez le code Python, puis cliquez sur Run\n",
    "jours = "
   ]
  },
  {
   "cell_type": "markdown",
   "metadata": {},
   "source": [
    "On désire convertir ce temps en secondes. Sachant qu'une journée dure 24 heures, et qu'une heure contient 3600 secondes, complétez le code python avec le calcul permettant d'obtenir la durée en secondes à partir de $jours$.\n",
    "\n",
    "> **Travail à faire** : Complétez le code ci-dessous pour que la variable $duree$ contienne la conversion de $jours$ en secondes. Il faut indiquer un calcul..."
   ]
  },
  {
   "cell_type": "code",
   "execution_count": null,
   "metadata": {},
   "outputs": [],
   "source": [
    "## Complétez le code Python, puis cliquez sur Run\n",
    "duree = jours * ...."
   ]
  },
  {
   "cell_type": "markdown",
   "metadata": {},
   "source": [
    "> **Travail à faire** : Complétez le code ci-dessous en indiquant le calcul permettant de déterminer le débit du transfert de données **en Go/s** à partir des variables $donnee$ et $duree$. Le code ci-dessous devra contenir les variables $donnee$ et $duree$."
   ]
  },
  {
   "cell_type": "code",
   "execution_count": null,
   "metadata": {},
   "outputs": [],
   "source": [
    "## Complétez le code Python, puis cliquez sur Run\n",
    "debit = "
   ]
  },
  {
   "cell_type": "markdown",
   "metadata": {},
   "source": [
    "> **Travail à faire** : Exécutez la cellule ci-dessous pour corriger votre travail.\n",
    "\n",
    "Si un message d'erreur apparaît (sur fond rouge), c'est que l'une des cellules précédente présente un code faux. La dernière ligne indique l'erreur rencontrée, et vous donne un indice pour vous aider.\n",
    "\n",
    "Corrigez votre travail, **exécutez toutes les cellules de la partie 1, puis à nouveau la prochaine**."
   ]
  },
  {
   "cell_type": "code",
   "execution_count": null,
   "metadata": {},
   "outputs": [],
   "source": [
    "exo_calcul(jours, duree, debit)"
   ]
  },
  {
   "cell_type": "markdown",
   "metadata": {},
   "source": [
    "---\n",
    "## 2. Débit ADSL et fibre optique"
   ]
  },
  {
   "cell_type": "markdown",
   "metadata": {},
   "source": [
    "Un article trouvé sur internet indique que les débits maximaux ADSL et fibre sont respectivement de 15 Mbit/s et 1 Gbit/s.\n",
    "\n",
    "**Indication 3** : il y a 8 bits dans un octet.\n",
    "\n",
    "**Indication 4** : 15Mbit/s = 0.015Gbits/s\n",
    "\n",
    "> **Travail à faire** : Convertissez les débits ADSL et fibre en Go/s, en indiquant le calcul à effectuer"
   ]
  },
  {
   "cell_type": "code",
   "execution_count": null,
   "metadata": {},
   "outputs": [],
   "source": [
    "## Complétez le code Python, puis cliquez sur Run\n",
    "debit_ADSL = \n",
    "debit_fibre = "
   ]
  },
  {
   "cell_type": "markdown",
   "metadata": {},
   "source": [
    "> **Travail à faire** : Exécutez la cellule ci-dessous pour corriger votre travail.\n",
    "\n",
    "Si un message d'erreur apparaît (sur fond rouge), c'est que l'une des cellules précédente présente un code faux. La dernière ligne indique l'erreur rencontrée, et vous donne un indice pour vous aider.\n",
    "\n",
    "Corrigez votre travail, **exécutez toutes les cellules de la partie 2, puis à nouveau la prochaine**."
   ]
  },
  {
   "cell_type": "code",
   "execution_count": null,
   "metadata": {},
   "outputs": [],
   "source": [
    "exo_adsl_fibre(debit_ADSL, debit_fibre)"
   ]
  },
  {
   "cell_type": "markdown",
   "metadata": {},
   "source": [
    "---\n",
    "## 3. Comparaison de débit"
   ]
  },
  {
   "cell_type": "markdown",
   "metadata": {},
   "source": [
    "On souhaite réaliser une fonction $est\\_superieur()$ qui compare deux débits : debit1 et debit2. Cette fonction renvoie `True`si debit1 es supérieur à debit2, et `False` sinon.\n",
    "\n",
    "> **Travail à faire** : Exécutez la cellule ci-dessous pour voir un exemple du résultat attendu"
   ]
  },
  {
   "cell_type": "code",
   "execution_count": null,
   "metadata": {},
   "outputs": [],
   "source": [
    "exo_debit.example(2)"
   ]
  },
  {
   "cell_type": "markdown",
   "metadata": {},
   "source": [
    "> **Travail à faire** : Complétez la fonction $est\\_superieur()$ qui renvoie `True` si debit1 est supérieur à debit2 et `False` sinon."
   ]
  },
  {
   "cell_type": "code",
   "execution_count": null,
   "metadata": {},
   "outputs": [],
   "source": [
    "def est_superieur(debit1, debit2):\n",
    "    if debit1 > debit2:\n",
    "        return True\n",
    "    else:\n",
    "        "
   ]
  },
  {
   "cell_type": "markdown",
   "metadata": {},
   "source": [
    "> **Travail à faire** : Exécutez la cellule ci-dessous pour corriger votre travail.\n",
    "\n",
    "Si une case rouge apparaît, c'est que le code entré à la cellule précédente est faux. Corrigez votre travail, exécutez la cellule précédente puis à nouveau la prochaine."
   ]
  },
  {
   "cell_type": "code",
   "execution_count": null,
   "metadata": {},
   "outputs": [],
   "source": [
    "exo_debit.correction(est_superieur)"
   ]
  },
  {
   "cell_type": "markdown",
   "metadata": {},
   "source": [
    "L'appel à la fonction ci-dessous : \n",
    "```python\n",
    "est_superieur(valeur1, valeur2)\n",
    "```\n",
    "pose la question suivante : **valeur1 est-elle supérieure à valeur2 ?**\n",
    "\n",
    "> **Travail à faire** : utilisez la fonction $est\\_superieur()$ pour poser la question : 12 est-il supérieur à 15 ? (on doit obtenir False)"
   ]
  },
  {
   "cell_type": "code",
   "execution_count": null,
   "metadata": {},
   "outputs": [],
   "source": [
    "## Indiquez ci-dessous le code Python, puis cliquez sur Run\n"
   ]
  },
  {
   "cell_type": "markdown",
   "metadata": {},
   "source": [
    "\n",
    "> **Travail à faire** : utilisez la fonction $est\\_superieur()$ pour indiquer si le débit du camion (variable $debit$) est supérieur au débit de l'ADSL (variable $debit\\_ADSL$)."
   ]
  },
  {
   "cell_type": "code",
   "execution_count": null,
   "metadata": {},
   "outputs": [],
   "source": [
    "## Indiquez ci-dessous le code Python, puis cliquez sur Run\n"
   ]
  },
  {
   "cell_type": "markdown",
   "metadata": {},
   "source": [
    "> **Travail à faire** : utilisez la fonction $est\\_superieur()$ pour indiquer si le débit du camion est supérieur au débit de la fibre."
   ]
  },
  {
   "cell_type": "code",
   "execution_count": null,
   "metadata": {},
   "outputs": [],
   "source": [
    "## Indiquez ci-dessous le code Python, puis cliquez sur Run\n"
   ]
  },
  {
   "cell_type": "markdown",
   "metadata": {},
   "source": [
    "---\n",
    "## 4. Calcul du temps de transport de l'information"
   ]
  },
  {
   "cell_type": "markdown",
   "metadata": {},
   "source": [
    "On souhaite calculer le temps de transport de l'information pour une quantité donnée. Pour cela, on souhaite réaliser une fonction $duree$, prenant $quantite$ et $debit$ en paramètres, et renvoyant $temps$, le temps de transport de l'information.\n",
    "\n",
    "> **Travail à faire** : Exécutez la cellule ci-dessous pour voir un exemple du résultat attendu"
   ]
  },
  {
   "cell_type": "code",
   "execution_count": null,
   "metadata": {},
   "outputs": [],
   "source": [
    "exo_duree.example(2)"
   ]
  },
  {
   "cell_type": "markdown",
   "metadata": {},
   "source": [
    "On souhaite calculer le temps de transport de l'information pour une quantité donnée.\n",
    "\n",
    "> **Travail à faire** : Complétez la fonction $duree$, prenant $quantite$ et $debit$ en paramètres, et renvoyant $temps$, le temps de transport de l'information.\n",
    "\n",
    "> **Indication 5** : le temps se calcule par le rapport $\\dfrac{quantite}{debit}$."
   ]
  },
  {
   "cell_type": "code",
   "execution_count": null,
   "metadata": {},
   "outputs": [],
   "source": [
    "def duree(quantite, debit):\n",
    "    \"\"\"fonction qui renvoie le temps de transport d'une information\n",
    "    Entrées\n",
    "    -------\n",
    "    quantite : le nombre de Gigaoctets (Go) à envoyer\n",
    "    debit : le débit en Go/s\n",
    "\n",
    "    Sortie\n",
    "    ------\n",
    "    temps : le temps de transport de l'information en secondes\n",
    "    \"\"\"\n",
    "\n",
    "    ## Complétez ci-dessous le code Python, puis cliquez sur Run\n",
    "    temps =...\n",
    "\n",
    "    return f\"Il faut {temps} secondes\""
   ]
  },
  {
   "cell_type": "markdown",
   "metadata": {},
   "source": [
    "> **Travail à faire** : Exécutez la cellule ci-dessous pour corriger votre travail.\n",
    "\n",
    "Si une case rouge apparaît, c'est que le code entré à la cellule précédente est faux. Corrigez votre travail, exécutez la cellule précédente puis à nouveau la prochaine."
   ]
  },
  {
   "cell_type": "code",
   "execution_count": null,
   "metadata": {},
   "outputs": [],
   "source": [
    "exo_duree.correction(duree)"
   ]
  },
  {
   "cell_type": "markdown",
   "metadata": {},
   "source": [
    "A l'aide de la fonction $duree$, calculez le temps de transport d'un film de 4,7 Go en utilisant la fibre optique."
   ]
  },
  {
   "cell_type": "code",
   "execution_count": null,
   "metadata": {},
   "outputs": [],
   "source": [
    "## Indiquez ci-dessous le code Python, puis cliquez sur Run\n"
   ]
  },
  {
   "cell_type": "markdown",
   "metadata": {},
   "source": [
    "A l'aide de la fonction $duree$, calculez le temps de transport d'un film de 4,7 Go en utilisant l'ADSL."
   ]
  },
  {
   "cell_type": "code",
   "execution_count": null,
   "metadata": {},
   "outputs": [],
   "source": [
    "## Indiquez ci-dessous le code Python, puis cliquez sur Run\n"
   ]
  },
  {
   "cell_type": "markdown",
   "metadata": {},
   "source": [
    "Enregistrez votre Notebook (voir image ci-dessous), puis déposez-le dans le casier de votre professeur.\n",
    "\n",
    "![enregistrer](enregistrer.png)"
   ]
  },
  {
   "cell_type": "markdown",
   "metadata": {},
   "source": [
    "Déposez votre notebook dans le casier de votre professeur"
   ]
  },
  {
   "cell_type": "code",
   "execution_count": null,
   "metadata": {},
   "outputs": [],
   "source": []
  }
 ],
 "metadata": {
  "kernelspec": {
   "display_name": "Python 3",
   "language": "python",
   "name": "python3"
  },
  "language_info": {
   "codemirror_mode": {
    "name": "ipython",
    "version": 3
   },
   "file_extension": ".py",
   "mimetype": "text/x-python",
   "name": "python",
   "nbconvert_exporter": "python",
   "pygments_lexer": "ipython3",
   "version": "3.9.2"
  }
 },
 "nbformat": 4,
 "nbformat_minor": 4
}
