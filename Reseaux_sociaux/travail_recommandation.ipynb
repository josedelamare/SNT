{
 "cells": [
  {
   "cell_type": "markdown",
   "metadata": {},
   "source": [
    "<center><h1>Un algorithme de recommandation</h1></center>"
   ]
  },
  {
   "cell_type": "markdown",
   "metadata": {},
   "source": [
    "Le code suivant permet l'import des modules et des différentes fonctions qui seront utilisées par la suite : (exécuter la cellule)\n",
    "> **Travail à faire** : Exécutez la cellule ci-dessous"
   ]
  },
  {
   "cell_type": "code",
   "execution_count": 2,
   "metadata": {},
   "outputs": [],
   "source": [
    "from networkx import nx,diameter,radius,center\n",
    "import matplotlib.pyplot as plt\n",
    "\n",
    "def recommandation(graphe_relations) :\n",
    "    dict = recommandation_creation(graphe_relations)\n",
    "    for cle, valeur in dict.items():\n",
    "        for nom in valeur:\n",
    "            if not nom in graphe_relations[cle]:\n",
    "                print(\"Le reseau social propose a \", cle, \" de devenir ami avec\", nom)\n",
    "                \n",
    "def recommandation_creation(graphe_relations):\n",
    "    dico_suggestion = {}\n",
    "    for cle, valeur in graphe_relations.items():\n",
    "        for cle2, valeur2 in graphe_relations.items():\n",
    "            if cle != cle2 :\n",
    "                for personne in valeur :\n",
    "                    if personne in valeur2 :\n",
    "                        try:\n",
    "                            if not cle2 in dico_suggestion[cle]:\n",
    "                                dico_suggestion[cle].append(cle2)\n",
    "                        except:\n",
    "                            dico_suggestion[cle] = [cle2]\n",
    "                        try:\n",
    "                            if not cle in dico_suggestion[cle2]:\n",
    "                                dico_suggestion[cle2].append(cle)\n",
    "                        except:\n",
    "                            dico_suggestion[cle2] = [cle]\n",
    "    return dico_suggestion\n",
    "\n",
    "def trace(graphe):\n",
    "    reseau_social=nx.Graph()\n",
    "    for cle in graphe.keys():\n",
    "        reseau_social.add_node(cle)\n",
    "        for ami in graphe[cle]:\n",
    "            reseau_social.add_edge(cle,ami)\n",
    "\n",
    "    nx.draw(reseau_social, with_labels=True)\n",
    "    plt.draw()\n",
    "    plt.show()\n",
    "\n",
    "def exploitation(graphe):\n",
    "    reseau_social=nx.Graph()\n",
    "    for cle in graphe.keys():\n",
    "        reseau_social.add_node(cle)\n",
    "        for ami in graphe[cle]:\n",
    "            reseau_social.add_edge(cle,ami)\n",
    "    print(\"Diametre=\",diameter(reseau_social))\n",
    "    print(\"Rayon=\",radius(reseau_social))\n",
    "    print(\"Centre=\",center(reseau_social))"
   ]
  },
  {
   "cell_type": "markdown",
   "metadata": {},
   "source": [
    "---\n",
    "\n",
    "## Première étape : la création d'un réseau social"
   ]
  },
  {
   "cell_type": "markdown",
   "metadata": {},
   "source": [
    "Voici la représentation en Python du graphe des relations d'amitiés entre les individus du réseau social : (penser à exécuter également la cellule)"
   ]
  },
  {
   "cell_type": "code",
   "execution_count": 3,
   "metadata": {},
   "outputs": [],
   "source": [
    "graphe_relations_reseau1 = {\n",
    "    \"Abdel\" : [\"Elia\", \"Sacha\"],\n",
    "    \"Béa\": [\"Elia\", \"Coline\", \"Noé\"],\n",
    "    \"Coline\" : [\"Béa\", \"Noé\", \"Dylan\"],\n",
    "    \"Dylan\": [ \"Sacha\", \"Coline\"],\n",
    "    \"Elia\": [\"Abdel\", \"Béa\"],\n",
    "    \"Noé\": [\"Béa\", \"Coline\"],\n",
    "    \"Sacha\": [\"Abdel\", \"Dylan\"]\n",
    "}"
   ]
  },
  {
   "cell_type": "markdown",
   "metadata": {},
   "source": [
    "Cela signifie que : \n",
    "\n",
    "- Abdel est ami avec Elia et Sacha,\n",
    "- Béa est amie avec Elia, Coline et Noé,\n",
    "- etc."
   ]
  },
  {
   "cell_type": "markdown",
   "metadata": {},
   "source": [
    "# <span font style='color:red'> Complétez la feuille réponse (Question 1) pour recenser tous les amis de chacun des individus.</span>\n",
    "---\n"
   ]
  },
  {
   "cell_type": "markdown",
   "metadata": {},
   "source": [
    "L'instruction `trace(graphe_relations_reseau1)` permet de tracer le graphe de ce réseau. Exécutez la cellule ci-dessous pour dessiner le graphe."
   ]
  },
  {
   "cell_type": "code",
   "execution_count": 4,
   "metadata": {},
   "outputs": [
    {
     "data": {
      "image/png": "[encoded data removed]",
      "text/plain": [
       "<Figure size 432x288 with 1 Axes>"
      ]
     },
     "metadata": {},
     "output_type": "display_data"
    }
   ],
   "source": [
    "trace(graphe_relations_reseau1)"
   ]
  },
  {
   "cell_type": "markdown",
   "metadata": {},
   "source": [
    "# <span font style='color:red'> Complétez la feuille réponse (Question 2) pour déterminer le (les) centre(s), rayon et diamètre de ce graphe.</span>\n",
    "---\n"
   ]
  },
  {
   "cell_type": "markdown",
   "metadata": {},
   "source": [
    "L'instruction `exploitation(graphe_relations_reseau1)` permet d'afficher le nombre de centre, rayon et diamètre de ce réseau. Exécutez la cellule ci-dessous pour vérifier la réponse précédente."
   ]
  },
  {
   "cell_type": "code",
   "execution_count": null,
   "metadata": {},
   "outputs": [],
   "source": [
    "exploitation(graphe_relations_reseau1)"
   ]
  },
  {
   "cell_type": "markdown",
   "metadata": {},
   "source": [
    "## Deuxième étape : la recommandation de nouveaux amis ##"
   ]
  },
  {
   "cell_type": "markdown",
   "metadata": {},
   "source": [
    "Il reste maintenant à appeler la fonction recommandation et observer la réponse en exécutant la cellule suivante :"
   ]
  },
  {
   "cell_type": "code",
   "execution_count": null,
   "metadata": {},
   "outputs": [],
   "source": [
    "recommandation(graphe_relations_reseau1)"
   ]
  },
  {
   "cell_type": "markdown",
   "metadata": {},
   "source": [
    "---\n",
    "\n",
    "**Pourquoi l'algorithme a-t-il proposé ces noms à Abdel comme nouveaux amis ?**\n",
    "\n",
    "# <span font style='color:red'> Complétez la feuille réponse (Question 3).</span>\n",
    "---\n"
   ]
  },
  {
   "cell_type": "markdown",
   "metadata": {},
   "source": [
    "Abdel est un \"accro\" aux réseaux sociaux. Il accepte toutes les relations qu'on lui propose.\n",
    "\n",
    "Modifiez la représentation en Python du graphe des relations d'amitiés d'Abdel, à l'intérieur du réseau social : (penser à exécuter également la cellule)"
   ]
  },
  {
   "cell_type": "code",
   "execution_count": null,
   "metadata": {},
   "outputs": [],
   "source": [
    "graphe_relations_reseau1 = {\n",
    "    \"Abdel\" : [\"Elia\", \"Sacha\", \"Béa\", \"Dylan\"] ,\n",
    "    \"Béa\": [\"Elia\", \"Coline\", \"Noé\"],\n",
    "    \"Coline\" : [\"Béa\", \"Noé\", \"Dylan\"],\n",
    "    \"Dylan\": [ \"Sacha\", \"Coline\"],\n",
    "    \"Elia\": [\"Abdel\", \"Béa\"],\n",
    "    \"Noé\": [\"Béa\", \"Coline\"],\n",
    "    \"Sacha\": [\"Abdel\", \"Dylan\"]\n",
    "}"
   ]
  },
  {
   "cell_type": "markdown",
   "metadata": {},
   "source": [
    "# <span font style='color:red'> Appelez le professeur pour valider la modification</span>"
   ]
  },
  {
   "cell_type": "markdown",
   "metadata": {},
   "source": [
    "Il reste maintenant à appeler la fonction trace(). "
   ]
  },
  {
   "cell_type": "code",
   "execution_count": null,
   "metadata": {},
   "outputs": [],
   "source": [
    "trace(graphe_relations_reseau1)"
   ]
  },
  {
   "cell_type": "markdown",
   "metadata": {},
   "source": [
    "# <span font style='color:red'> Complétez la feuille réponse (Question 4) pour déterminer le (les) centre(s), rayon et diamètre de ce graphe.</span>\n",
    "\n",
    "Vérifiez votre réponse grâce à l'instruction `exploitation(graphe_relations_reseau1)` à insérer dans la case ci-dessous."
   ]
  },
  {
   "cell_type": "code",
   "execution_count": null,
   "metadata": {},
   "outputs": [],
   "source": [
    "exploitation(graphe_relations_reseau1)"
   ]
  },
  {
   "cell_type": "markdown",
   "metadata": {},
   "source": [
    "---\n",
    "\n",
    "## Troisième étape : que se passe-t-il si Abdel accepte toutes les recommandations ?"
   ]
  },
  {
   "cell_type": "markdown",
   "metadata": {},
   "source": [
    "Appelez la fonction recommandation et observer la réponse en exécutant la cellule suivante :"
   ]
  },
  {
   "cell_type": "code",
   "execution_count": null,
   "metadata": {},
   "outputs": [],
   "source": [
    "recommandation(graphe_relations_reseau1)"
   ]
  },
  {
   "cell_type": "markdown",
   "metadata": {},
   "source": [
    "Abdel accepte toutes les propositions qui lui sont faites.\n",
    "\n",
    "Modifiez la représentation en Python du graphe des relations d'amitiés entre les individus du réseau social : (penser à exécuter également la cellule)"
   ]
  },
  {
   "cell_type": "code",
   "execution_count": null,
   "metadata": {},
   "outputs": [],
   "source": [
    "graphe_relations_reseau1 = {\n",
    "    \"Abdel\" : ## insérez ici les relations d'Abdel,\n",
    "    \"Béa\": [\"Elia\", \"Coline\", \"Noé\"],\n",
    "    \"Coline\" : [\"Béa\", \"Noé\", \"Dylan\"],\n",
    "    \"Dylan\": [ \"Sacha\", \"Coline\"],\n",
    "    \"Elia\": [\"Abdel\", \"Béa\"],\n",
    "    \"Noé\": [\"Béa\", \"Coline\"],\n",
    "    \"Sacha\": [\"Abdel\", \"Dylan\"]\n",
    "}"
   ]
  },
  {
   "cell_type": "markdown",
   "metadata": {},
   "source": [
    "Il reste maintenant à appeler la fonction trace(graphe_relations_reseau1), puis exploitation(graphe_relations_reseau1) pour afficher et déterminer les caractéristiques du nouveau graphe."
   ]
  },
  {
   "cell_type": "code",
   "execution_count": null,
   "metadata": {},
   "outputs": [],
   "source": [
    "recommandation(graphe_relations_reseau1)"
   ]
  },
  {
   "cell_type": "markdown",
   "metadata": {},
   "source": [
    "Recommencez autant de fois que nécessaire, jusqu'à ce qu'on ne propose plus d'amis à Abdel."
   ]
  },
  {
   "cell_type": "code",
   "execution_count": null,
   "metadata": {},
   "outputs": [],
   "source": []
  },
  {
   "cell_type": "code",
   "execution_count": null,
   "metadata": {},
   "outputs": [],
   "source": []
  },
  {
   "cell_type": "code",
   "execution_count": null,
   "metadata": {},
   "outputs": [],
   "source": []
  },
  {
   "cell_type": "markdown",
   "metadata": {},
   "source": [
    "En utilisant l'instruction `trace(graphe_relations_reseau1)`, déterminez le centre du graphe. Vérifiez votre réponse avec l'instruction `exploitation(graphe_relations_reseau1)`."
   ]
  },
  {
   "cell_type": "code",
   "execution_count": null,
   "metadata": {},
   "outputs": [],
   "source": []
  },
  {
   "cell_type": "code",
   "execution_count": null,
   "metadata": {},
   "outputs": [],
   "source": []
  }
 ],
 "metadata": {
  "kernelspec": {
   "display_name": "Python 3",
   "language": "python",
   "name": "python3"
  },
  "language_info": {
   "codemirror_mode": {
    "name": "ipython",
    "version": 3
   },
   "file_extension": ".py",
   "mimetype": "text/x-python",
   "name": "python",
   "nbconvert_exporter": "python",
   "pygments_lexer": "ipython3",
   "version": "3.8.3"
  }
 },
 "nbformat": 4,
 "nbformat_minor": 4
}
